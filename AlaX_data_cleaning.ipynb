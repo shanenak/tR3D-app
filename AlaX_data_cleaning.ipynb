{
 "cells": [
  {
   "cell_type": "code",
   "execution_count": 1,
   "metadata": {},
   "outputs": [],
   "source": [
    "import pandas as pd\n",
    "import plotly.graph_objects as go\n",
    "import os"
   ]
  },
  {
   "attachments": {},
   "cell_type": "markdown",
   "metadata": {},
   "source": [
    "### COMBINE SUBCLUSTER FILES"
   ]
  },
  {
   "cell_type": "code",
   "execution_count": 5,
   "metadata": {},
   "outputs": [],
   "source": [
    "dir = r\"data\\20230416\\subclusters\"\n",
    "df = pd.DataFrame()\n",
    "for filename in os.listdir(dir):\n",
    "    f = os.path.join(dir, filename)\n",
    "    # checking if it is a file\n",
    "    if os.path.isfile(f):\n",
    "        temp_df = pd.read_csv(f)\n",
    "        temp_df.rename(columns={'SSN Cluster Number':'Subcluster Number'}, inplace=True)\n",
    "        cluster_number_long = filename.split(\"_\")[3].split('.')[0]\n",
    "        cluster_number = cluster_number_long.replace(\"Cluster\", \"\")\n",
    "        temp_df['SSN Cluster Number'] = cluster_number\n",
    "        df = pd.concat([df, temp_df], axis=0)"
   ]
  },
  {
   "cell_type": "code",
   "execution_count": 2,
   "metadata": {},
   "outputs": [],
   "source": [
    "dir = r\"data\\20230416\\neighbors\"\n",
    "df = pd.DataFrame()\n",
    "for filename in os.listdir(dir):\n",
    "    f = os.path.join(dir, filename)\n",
    "    # checking if it is a file\n",
    "    if os.path.isfile(f):\n",
    "        temp_df = pd.read_csv(f)\n",
    "        temp_df.rename(columns={'cluster_num':'Subcluster Number'}, inplace=True)\n",
    "        cluster_number_long = filename.split(\"_\")[1].split('.')[0]\n",
    "        cluster_number = cluster_number_long.replace(\"cluster\", \"\")\n",
    "        temp_df['SSN Cluster Number'] = cluster_number\n",
    "        df = pd.concat([df, temp_df], axis=0)"
   ]
  },
  {
   "cell_type": "code",
   "execution_count": 6,
   "metadata": {},
   "outputs": [
    {
     "data": {
      "text/plain": [
       "# of Pfam Neighbors                                                                           5.0\n",
       "# of Queries with Pfam Neighbors                                                              5.0\n",
       "# of Sequences in SSN Cluster                                                                  18\n",
       "# of Sequences in SSN Cluster with Neighbors                                                   14\n",
       "Average Distance                                                                             4.59\n",
       "Co-occurrence                                                                                0.35\n",
       "Co-occurrence Ratio                                                                          5/14\n",
       "Hub Average and Median Distance                                                               NaN\n",
       "Hub Co-occurrence and Ratio                                                                   NaN\n",
       "Hub Pfam Neighbors                                                                            NaN\n",
       "Hub Queries with Pfam Neighbors                                                               NaN\n",
       "Median Distance                                                                               4.0\n",
       "name                                                                     ABC_tran-ABC2_membrane_3\n",
       "node.fillColor                                                                            #EEEEEE\n",
       "node.shape                                                                                 circle\n",
       "node.size                                                                                    35.0\n",
       "Pfam                                                                              PF00005-PF12698\n",
       "Pfam Description                                 ABC transporter-ABC-2 family transporter protein\n",
       "Query Accessions                                A0A2V2WDH1|A0A2V2VDQ8|A0A7J6Y6T2|V5DL37|A0A2V2...\n",
       "Query-Neighbor Accessions                       PF00005-PF12698:A0A2V2WDH1:A0A2V2WE75:::None:N...\n",
       "Query-Neighbor Arrangement                      PF00005-PF12698:A0A2V2WDH1:complement:A0A2V2WE...\n",
       "selected                                                                                    False\n",
       "shared name                                                              ABC_tran-ABC2_membrane_3\n",
       "Subcluster Number                                                                              74\n",
       "SSN Cluster Number                                                                              1\n",
       "Name: 0, dtype: object"
      ]
     },
     "execution_count": 6,
     "metadata": {},
     "output_type": "execute_result"
    }
   ],
   "source": [
    "df.iloc[0]"
   ]
  },
  {
   "cell_type": "code",
   "execution_count": 7,
   "metadata": {},
   "outputs": [],
   "source": [
    "df.to_csv(r'data/subclusters.csv')"
   ]
  },
  {
   "attachments": {},
   "cell_type": "markdown",
   "metadata": {},
   "source": [
    "### assign tags for regulator and transporter"
   ]
  },
  {
   "cell_type": "code",
   "execution_count": 3,
   "metadata": {},
   "outputs": [],
   "source": [
    "attributes = pd.read_csv(r'data\\attributes.csv')\n",
    "neighbors = pd.read_csv(r'data\\neighbors.csv')"
   ]
  },
  {
   "cell_type": "code",
   "execution_count": 6,
   "metadata": {},
   "outputs": [],
   "source": [
    "neighbors['transporter'] = neighbors['desc'].apply(lambda x: 'transport' in x if type(x)==str else False)\n",
    "neighbors['regulator'] = neighbors['desc'].apply(lambda x: 'regulat' in x if type(x)==str else False)\n",
    "neighbors['EamA'] = neighbors['desc'].apply(lambda x: 'EamA' in x if type(x)==str else False)"
   ]
  },
  {
   "cell_type": "code",
   "execution_count": 20,
   "metadata": {},
   "outputs": [],
   "source": [
    "neighbors.to_csv(r'data\\neighbors.csv')"
   ]
  },
  {
   "attachments": {},
   "cell_type": "markdown",
   "metadata": {},
   "source": [
    "### get pairs of neighbors"
   ]
  },
  {
   "cell_type": "code",
   "execution_count": 3,
   "metadata": {},
   "outputs": [],
   "source": [
    "neighbors = pd.read_csv('./data/neighbors.csv')\n",
    "attributes = pd.read_csv('./data/attributes.csv')\n",
    "subcluster_df = pd.read_csv('./data/AlaX_10neighbors.csv')\n",
    "\n",
    "THRESHOLD = 10\n",
    "# flag_proteins = attributes.loc[attributes['SSN Cluster Number']==SSN].index\n",
    "SSN=5"
   ]
  },
  {
   "cell_type": "code",
   "execution_count": 4,
   "metadata": {},
   "outputs": [],
   "source": [
    "flag_proteins = attributes.loc[attributes['SSN Cluster Number']==SSN].index\n",
    "subcluster_df = subcluster_df.loc[subcluster_df['SSN Cluster Number']==SSN]\n",
    "\n",
    "count_neighbors = {}\n",
    "dict_flag_proteins = {}\n",
    "filtered_neighbors = pd.DataFrame()\n",
    "for flag in flag_proteins:\n",
    "    taxon = attributes.loc[flag, 'taxon_id']\n",
    "    flag_num = attributes.loc[flag, 'num']\n",
    "    flag_neighbors = neighbors.loc[(neighbors['taxon_id']==taxon)&(neighbors['num']>=(flag_num-THRESHOLD))&(neighbors['num']<=(flag_num+THRESHOLD))&(neighbors['family']!='none')]\n",
    "    dict_flag_proteins = flag_neighbors['family_desc'].unique()\n",
    "    filtered_neighbors = pd.concat([filtered_neighbors, flag_neighbors], axis=0)\n",
    "    for neighbor in flag_neighbors['family_desc'].unique():\n",
    "        count_neighbors[neighbor] = count_neighbors[neighbor]+1 if neighbor in count_neighbors.keys() else 1\n",
    "\n",
    "neighbor_list = filtered_neighbors.groupby('taxon_id')['family_desc'].apply(list).reset_index(name=\"family_desc\")"
   ]
  },
  {
   "cell_type": "code",
   "execution_count": 5,
   "metadata": {},
   "outputs": [],
   "source": [
    "top_neighbors = dict(sorted(count_neighbors.items(), key=lambda x:x[1], reverse=True)[:5])"
   ]
  },
  {
   "cell_type": "code",
   "execution_count": 26,
   "metadata": {},
   "outputs": [],
   "source": [
    "count_secondaryneighbors = pd.DataFrame(columns=['index'])\n",
    "for neighbor in top_neighbors.keys():\n",
    "    neighbor_list[neighbor+'_presence'] = neighbor_list.apply(lambda x: neighbor in x['family_desc'], axis=1)\n",
    "    temp = neighbor_list.loc[neighbor_list[neighbor+'_presence']].explode('family_desc')\n",
    "    temp_secondary = temp['family_desc'].value_counts(ascending=False).reset_index(name=neighbor).iloc[:10,:]\n",
    "    # count_secondaryneighbors = pd.concat([count_secondaryneighbors, temp_secondary[neighbor]], axis=1)\n",
    "    count_secondaryneighbors = pd.merge(count_secondaryneighbors, temp_secondary, how=\"outer\", on='index')\n",
    "    # count_secondaryneighbors = count_secondaryneighbors.join(temp_secondary)\n",
    "count_secondaryneighbors = count_secondaryneighbors.rename(columns={'index':'pair'}).set_index('pair')"
   ]
  },
  {
   "attachments": {},
   "cell_type": "markdown",
   "metadata": {},
   "source": [
    "### Too big of a file"
   ]
  },
  {
   "cell_type": "code",
   "execution_count": 4,
   "metadata": {},
   "outputs": [],
   "source": [
    "# filtered_neighbors = pd.DataFrame()\n",
    "# for flag in attributes.index:\n",
    "#     taxon = attributes.loc[flag, 'taxon_id']\n",
    "#     flag_num = attributes.loc[flag, 'num']\n",
    "#     neighbors.loc[(neighbors['taxon_id']==taxon)&(neighbors['num']>=(flag_num-THRESHOLD))&(neighbors['num']<=(flag_num+THRESHOLD))&(neighbors['family']!='none'), 'flag'] = attributes.loc[flag, 'family_desc']\n",
    "#     flag_neighbors = neighbors.loc[(neighbors['taxon_id']==taxon)&(neighbors['num']>=(flag_num-THRESHOLD))&(neighbors['num']<=(flag_num+THRESHOLD))&(neighbors['family']!='none')]\n",
    "#     filtered_neighbors = pd.concat([filtered_neighbors, flag_neighbors], axis=0)"
   ]
  },
  {
   "cell_type": "code",
   "execution_count": 5,
   "metadata": {},
   "outputs": [],
   "source": [
    "# filtered_neighbors.to_csv('filtered_neighbors.csv')"
   ]
  },
  {
   "cell_type": "code",
   "execution_count": null,
   "metadata": {},
   "outputs": [],
   "source": [
    "# neighbor_list = filtered_neighbors.groupby('taxon_id')['family_desc'].apply(list).reset_index(name=\"family_desc\")\n",
    "# neighbor_list['pair'] = neighbor_list['family_desc']\n",
    "# neighbor_list = neighbor_list.explode('family_desc')\n",
    "# neighbor_list = neighbor_list.explode('pair')"
   ]
  },
  {
   "cell_type": "code",
   "execution_count": null,
   "metadata": {},
   "outputs": [],
   "source": [
    "# top_neighbors = neighbor_list.loc[neighbor_list['family_desc']!=neighbor_list['pair'],['family_desc', 'pair']].value_counts(ascending=False).reset_index(name='count')"
   ]
  },
  {
   "attachments": {},
   "cell_type": "markdown",
   "metadata": {},
   "source": [
    "### SQL LITE File"
   ]
  },
  {
   "cell_type": "code",
   "execution_count": 2,
   "metadata": {},
   "outputs": [],
   "source": [
    "import sqlite3\n",
    "import pandas as pd"
   ]
  },
  {
   "cell_type": "code",
   "execution_count": 25,
   "metadata": {},
   "outputs": [],
   "source": [
    "\n",
    "# Create a SQL connection to our SQLite database\n",
    "con = sqlite3.connect(r'data\\20230416\\SQLITE\\25585_96473_230403_IPR018163_43_Cluster5_90_full_ssn_arrow_data_co0_ns10.sqlite')\n",
    "\n",
    "cur = con.cursor()\n",
    "\n",
    "# # The result of a \"cursor.execute\" can be iterated over by row\n",
    "table = 'neighbors'\n",
    "# query = \"SELECT * FROM sqlite_master WHERE type='table';\"\n",
    "# query = \"SELECT * FROM {} LIMIT 5;\".format(table)\n",
    "# query = 'PRAGMA table_info({});'.format(table)\n",
    "# for row in cur.execute(query):\n",
    "#     print(row)\n",
    "    \n",
    "df = pd.read_sql_query(\"SELECT * from {}\".format(table), con)\n",
    "\n",
    "# Be sure to close the connection\n",
    "con.close()\n",
    "\n",
    "df.to_csv(r'data\\20230416\\neighbors\\neighbors_cluster5.csv')"
   ]
  },
  {
   "cell_type": "code",
   "execution_count": 42,
   "metadata": {},
   "outputs": [],
   "source": [
    "# df.to_csv('data/cluster_degree.csv')"
   ]
  },
  {
   "cell_type": "code",
   "execution_count": null,
   "metadata": {},
   "outputs": [],
   "source": [
    "# attributes\n",
    "# sqlite_sequence\n",
    "# neighbors\n",
    "# families\n",
    "# cluster_degree\n",
    "# metadata\n",
    "# cluster_index\n",
    "# uniref50_cluster_index\n",
    "# uniref50_cluster_index\n",
    "# uniref50_index\n",
    "# uniref90_cluster_index\n",
    "# uniref90_range\n",
    "# uniref90_index"
   ]
  }
 ],
 "metadata": {
  "kernelspec": {
   "display_name": "venv",
   "language": "python",
   "name": "python3"
  },
  "language_info": {
   "codemirror_mode": {
    "name": "ipython",
    "version": 3
   },
   "file_extension": ".py",
   "mimetype": "text/x-python",
   "name": "python",
   "nbconvert_exporter": "python",
   "pygments_lexer": "ipython3",
   "version": "3.10.4"
  },
  "orig_nbformat": 4,
  "vscode": {
   "interpreter": {
    "hash": "8ca96dcae3fd5d9dc594bdb11aa612c6a5994051e86eb8d464c5a9a05521d54e"
   }
  }
 },
 "nbformat": 4,
 "nbformat_minor": 2
}
